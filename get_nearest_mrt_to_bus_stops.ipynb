{
 "cells": [
  {
   "cell_type": "code",
   "execution_count": 27,
   "metadata": {},
   "outputs": [],
   "source": [
    "import pandas as pd\n",
    "from tqdm import tqdm\n",
    "from math import sin, cos, sqrt, atan2, radians"
   ]
  },
  {
   "cell_type": "code",
   "execution_count": 21,
   "metadata": {},
   "outputs": [],
   "source": [
    "bus_stop_data = pd.read_csv('data/bus_stops.csv')\n",
    "mrt_station_data = pd.read_csv('data/mrt_stations_with_geo_data.csv').drop_duplicates()"
   ]
  },
  {
   "cell_type": "code",
   "execution_count": 22,
   "metadata": {},
   "outputs": [],
   "source": [
    "#function to calculate distance given lat and long of two points and return the distance in metres\n",
    "def calculate_distance(lat1, lon1, lat2, lon2):\n",
    "    # approximate radius of earth in km\n",
    "    R = 6373.0\n",
    "\n",
    "    lat1 = radians(lat1)\n",
    "    lon1 = radians(lon1)\n",
    "    lat2 = radians(lat2)\n",
    "    lon2 = radians(lon2)\n",
    "\n",
    "    dlon = lon2 - lon1\n",
    "    dlat = lat2 - lat1\n",
    "\n",
    "    a = sin(dlat / 2)**2 + cos(lat1) * cos(lat2) * sin(dlon / 2)**2\n",
    "    c = 2 * atan2(sqrt(a), sqrt(1 - a))\n",
    "\n",
    "    distance = R * c * 1000\n",
    "\n",
    "    return distance\n"
   ]
  },
  {
   "cell_type": "code",
   "execution_count": 37,
   "metadata": {},
   "outputs": [
    {
     "name": "stderr",
     "output_type": "stream",
     "text": [
      "5137it [00:22, 224.32it/s]\n"
     ]
    }
   ],
   "source": [
    "distance = []\n",
    "station_name = []\n",
    "station_lat = []\n",
    "station_lon = []\n",
    "for i,row in tqdm(bus_stop_data.iterrows()):\n",
    "    # Get nearest MRT station using mr_station_data\n",
    "    min_distance = 1000000\n",
    "    nearest_station = None\n",
    "    lat_nearest_station = None\n",
    "    lon_nearest_station = None\n",
    "    for j,station_row in mrt_station_data.iterrows():\n",
    "        dist = calculate_distance(row['Latitude'], row['Longitude'], station_row['latitude'], station_row['longitude'])\n",
    "        if dist < min_distance:\n",
    "            min_distance = dist\n",
    "            nearest_station = station_row['station_name']    \n",
    "            lat_nearest_station = station_row['latitude']\n",
    "            lon_nearest_station = station_row['longitude']  \n",
    "    \n",
    "    distance.append(min_distance)\n",
    "    station_name.append(nearest_station)\n",
    "    station_lat.append(lat_nearest_station)\n",
    "    station_lon.append(lon_nearest_station)"
   ]
  },
  {
   "cell_type": "code",
   "execution_count": 41,
   "metadata": {},
   "outputs": [],
   "source": [
    "new_data  = bus_stop_data.\\\n",
    "    rename(columns={'Latitude':'bus_latitude','Longitude':'bus_longitude'}).\\\n",
    "    assign(nearest_station_name = station_name, \n",
    "           nearest_station_lat = station_lat, \n",
    "           nearest_station_lon = station_lon, \n",
    "           distance_to_nearest_station = distance)"
   ]
  },
  {
   "cell_type": "code",
   "execution_count": 44,
   "metadata": {},
   "outputs": [],
   "source": [
    "new_data.to_csv('processed_data/bus_stops_with_nearest_mrt.csv', index=False)"
   ]
  }
 ],
 "metadata": {
  "kernelspec": {
   "display_name": ".venv",
   "language": "python",
   "name": "python3"
  },
  "language_info": {
   "codemirror_mode": {
    "name": "ipython",
    "version": 3
   },
   "file_extension": ".py",
   "mimetype": "text/x-python",
   "name": "python",
   "nbconvert_exporter": "python",
   "pygments_lexer": "ipython3",
   "version": "3.12.0"
  }
 },
 "nbformat": 4,
 "nbformat_minor": 2
}
