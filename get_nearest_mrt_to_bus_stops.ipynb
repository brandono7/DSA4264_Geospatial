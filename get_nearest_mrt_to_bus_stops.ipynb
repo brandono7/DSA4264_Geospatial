{
 "cells": [
  {
   "cell_type": "code",
   "execution_count": 66,
   "metadata": {},
   "outputs": [],
   "source": [
    "import pandas as pd\n",
    "from tqdm import tqdm\n",
    "from math import sin, cos, sqrt, atan2, radians"
   ]
  },
  {
   "cell_type": "code",
   "execution_count": 95,
   "metadata": {},
   "outputs": [],
   "source": [
    "bus_stop_data = pd.read_csv('data/bus_stops.csv')\n",
    "mrt_latlong_data = pd.read_csv('data/mrt_stations_with_geo_data.csv').drop_duplicates()\n",
    "mrt_station_codes = pd.read_excel('data/Train Station Codes and CHinese Names.xls')"
   ]
  },
  {
   "cell_type": "code",
   "execution_count": 96,
   "metadata": {},
   "outputs": [
    {
     "data": {
      "text/html": [
       "<div>\n",
       "<style scoped>\n",
       "    .dataframe tbody tr th:only-of-type {\n",
       "        vertical-align: middle;\n",
       "    }\n",
       "\n",
       "    .dataframe tbody tr th {\n",
       "        vertical-align: top;\n",
       "    }\n",
       "\n",
       "    .dataframe thead th {\n",
       "        text-align: right;\n",
       "    }\n",
       "</style>\n",
       "<table border=\"1\" class=\"dataframe\">\n",
       "  <thead>\n",
       "    <tr style=\"text-align: right;\">\n",
       "      <th></th>\n",
       "      <th>BusStopCode</th>\n",
       "      <th>RoadName</th>\n",
       "      <th>Description</th>\n",
       "      <th>Latitude</th>\n",
       "      <th>Longitude</th>\n",
       "    </tr>\n",
       "  </thead>\n",
       "  <tbody>\n",
       "    <tr>\n",
       "      <th>0</th>\n",
       "      <td>1012</td>\n",
       "      <td>Victoria St</td>\n",
       "      <td>Hotel Grand Pacific</td>\n",
       "      <td>1.296848</td>\n",
       "      <td>103.852536</td>\n",
       "    </tr>\n",
       "    <tr>\n",
       "      <th>1</th>\n",
       "      <td>1013</td>\n",
       "      <td>Victoria St</td>\n",
       "      <td>St. Joseph's Ch</td>\n",
       "      <td>1.297710</td>\n",
       "      <td>103.853225</td>\n",
       "    </tr>\n",
       "    <tr>\n",
       "      <th>2</th>\n",
       "      <td>1019</td>\n",
       "      <td>Victoria St</td>\n",
       "      <td>Bras Basah Cplx</td>\n",
       "      <td>1.296990</td>\n",
       "      <td>103.853022</td>\n",
       "    </tr>\n",
       "    <tr>\n",
       "      <th>3</th>\n",
       "      <td>1029</td>\n",
       "      <td>Nth Bridge Rd</td>\n",
       "      <td>Opp Natl Lib</td>\n",
       "      <td>1.296673</td>\n",
       "      <td>103.854414</td>\n",
       "    </tr>\n",
       "    <tr>\n",
       "      <th>4</th>\n",
       "      <td>1039</td>\n",
       "      <td>Nth Bridge Rd</td>\n",
       "      <td>Bugis Cube</td>\n",
       "      <td>1.298208</td>\n",
       "      <td>103.855491</td>\n",
       "    </tr>\n",
       "  </tbody>\n",
       "</table>\n",
       "</div>"
      ],
      "text/plain": [
       "   BusStopCode       RoadName          Description  Latitude   Longitude\n",
       "0         1012    Victoria St  Hotel Grand Pacific  1.296848  103.852536\n",
       "1         1013    Victoria St      St. Joseph's Ch  1.297710  103.853225\n",
       "2         1019    Victoria St      Bras Basah Cplx  1.296990  103.853022\n",
       "3         1029  Nth Bridge Rd         Opp Natl Lib  1.296673  103.854414\n",
       "4         1039  Nth Bridge Rd           Bugis Cube  1.298208  103.855491"
      ]
     },
     "execution_count": 96,
     "metadata": {},
     "output_type": "execute_result"
    }
   ],
   "source": [
    "bus_stop_data.head()"
   ]
  },
  {
   "cell_type": "code",
   "execution_count": 97,
   "metadata": {},
   "outputs": [
    {
     "data": {
      "text/html": [
       "<div>\n",
       "<style scoped>\n",
       "    .dataframe tbody tr th:only-of-type {\n",
       "        vertical-align: middle;\n",
       "    }\n",
       "\n",
       "    .dataframe tbody tr th {\n",
       "        vertical-align: top;\n",
       "    }\n",
       "\n",
       "    .dataframe thead th {\n",
       "        text-align: right;\n",
       "    }\n",
       "</style>\n",
       "<table border=\"1\" class=\"dataframe\">\n",
       "  <thead>\n",
       "    <tr style=\"text-align: right;\">\n",
       "      <th></th>\n",
       "      <th>station_name</th>\n",
       "      <th>latitude</th>\n",
       "      <th>longitude</th>\n",
       "      <th>postal</th>\n",
       "      <th>x</th>\n",
       "      <th>y</th>\n",
       "      <th>street</th>\n",
       "    </tr>\n",
       "  </thead>\n",
       "  <tbody>\n",
       "    <tr>\n",
       "      <th>0</th>\n",
       "      <td>Jurong East</td>\n",
       "      <td>1.331864</td>\n",
       "      <td>103.740927</td>\n",
       "      <td>608513</td>\n",
       "      <td>17717.794105</td>\n",
       "      <td>34896.479188</td>\n",
       "      <td>JURONG EAST BUS INTERCHANGE</td>\n",
       "    </tr>\n",
       "    <tr>\n",
       "      <th>1</th>\n",
       "      <td>Bukit Batok</td>\n",
       "      <td>1.349719</td>\n",
       "      <td>103.750969</td>\n",
       "      <td>650631</td>\n",
       "      <td>18835.371845</td>\n",
       "      <td>36870.793752</td>\n",
       "      <td>BUKIT BATOK BUS INTERCHANGE</td>\n",
       "    </tr>\n",
       "    <tr>\n",
       "      <th>2</th>\n",
       "      <td>Bukit Gombak</td>\n",
       "      <td>1.367755</td>\n",
       "      <td>103.757472</td>\n",
       "      <td>667988</td>\n",
       "      <td>19559.140114</td>\n",
       "      <td>38865.049165</td>\n",
       "      <td>BUKIT GOMBAK CAMP</td>\n",
       "    </tr>\n",
       "    <tr>\n",
       "      <th>3</th>\n",
       "      <td>Choa Chu Kang</td>\n",
       "      <td>1.385393</td>\n",
       "      <td>103.744067</td>\n",
       "      <td>689811</td>\n",
       "      <td>18067.426940</td>\n",
       "      <td>40815.409193</td>\n",
       "      <td>CHOA CHU KANG BUS INTERCHANGE</td>\n",
       "    </tr>\n",
       "    <tr>\n",
       "      <th>4</th>\n",
       "      <td>Yew Tee</td>\n",
       "      <td>1.397194</td>\n",
       "      <td>103.745923</td>\n",
       "      <td>NIL</td>\n",
       "      <td>18274.010378</td>\n",
       "      <td>42120.341121</td>\n",
       "      <td>HEART OF YEW TEE</td>\n",
       "    </tr>\n",
       "  </tbody>\n",
       "</table>\n",
       "</div>"
      ],
      "text/plain": [
       "    station_name  latitude   longitude  postal             x             y  \\\n",
       "0    Jurong East  1.331864  103.740927  608513  17717.794105  34896.479188   \n",
       "1    Bukit Batok  1.349719  103.750969  650631  18835.371845  36870.793752   \n",
       "2   Bukit Gombak  1.367755  103.757472  667988  19559.140114  38865.049165   \n",
       "3  Choa Chu Kang  1.385393  103.744067  689811  18067.426940  40815.409193   \n",
       "4        Yew Tee  1.397194  103.745923     NIL  18274.010378  42120.341121   \n",
       "\n",
       "                          street  \n",
       "0    JURONG EAST BUS INTERCHANGE  \n",
       "1    BUKIT BATOK BUS INTERCHANGE  \n",
       "2              BUKIT GOMBAK CAMP  \n",
       "3  CHOA CHU KANG BUS INTERCHANGE  \n",
       "4               HEART OF YEW TEE  "
      ]
     },
     "execution_count": 97,
     "metadata": {},
     "output_type": "execute_result"
    }
   ],
   "source": [
    "mrt_latlong_data.head()"
   ]
  },
  {
   "cell_type": "code",
   "execution_count": 98,
   "metadata": {},
   "outputs": [
    {
     "data": {
      "text/html": [
       "<div>\n",
       "<style scoped>\n",
       "    .dataframe tbody tr th:only-of-type {\n",
       "        vertical-align: middle;\n",
       "    }\n",
       "\n",
       "    .dataframe tbody tr th {\n",
       "        vertical-align: top;\n",
       "    }\n",
       "\n",
       "    .dataframe thead th {\n",
       "        text-align: right;\n",
       "    }\n",
       "</style>\n",
       "<table border=\"1\" class=\"dataframe\">\n",
       "  <thead>\n",
       "    <tr style=\"text-align: right;\">\n",
       "      <th></th>\n",
       "      <th>stn_code</th>\n",
       "      <th>mrt_station_english</th>\n",
       "      <th>mrt_station_chinese</th>\n",
       "      <th>mrt_line_english</th>\n",
       "      <th>mrt_line_chinese</th>\n",
       "    </tr>\n",
       "  </thead>\n",
       "  <tbody>\n",
       "    <tr>\n",
       "      <th>0</th>\n",
       "      <td>NS1</td>\n",
       "      <td>Jurong East</td>\n",
       "      <td>裕廊东</td>\n",
       "      <td>North-South Line</td>\n",
       "      <td>南北线</td>\n",
       "    </tr>\n",
       "    <tr>\n",
       "      <th>1</th>\n",
       "      <td>NS2</td>\n",
       "      <td>Bukit Batok</td>\n",
       "      <td>武吉巴督</td>\n",
       "      <td>North-South Line</td>\n",
       "      <td>南北线</td>\n",
       "    </tr>\n",
       "    <tr>\n",
       "      <th>2</th>\n",
       "      <td>NS3</td>\n",
       "      <td>Bukit Gombak</td>\n",
       "      <td>武吉甘柏</td>\n",
       "      <td>North-South Line</td>\n",
       "      <td>南北线</td>\n",
       "    </tr>\n",
       "    <tr>\n",
       "      <th>3</th>\n",
       "      <td>NS4</td>\n",
       "      <td>Choa Chu Kang</td>\n",
       "      <td>蔡厝港</td>\n",
       "      <td>North-South Line</td>\n",
       "      <td>南北线</td>\n",
       "    </tr>\n",
       "    <tr>\n",
       "      <th>4</th>\n",
       "      <td>NS5</td>\n",
       "      <td>Yew Tee</td>\n",
       "      <td>油池</td>\n",
       "      <td>North-South Line</td>\n",
       "      <td>南北线</td>\n",
       "    </tr>\n",
       "  </tbody>\n",
       "</table>\n",
       "</div>"
      ],
      "text/plain": [
       "  stn_code mrt_station_english mrt_station_chinese   mrt_line_english  \\\n",
       "0      NS1         Jurong East                 裕廊东  North-South Line    \n",
       "1      NS2         Bukit Batok                武吉巴督  North-South Line    \n",
       "2      NS3        Bukit Gombak                武吉甘柏  North-South Line    \n",
       "3      NS4       Choa Chu Kang                 蔡厝港  North-South Line    \n",
       "4      NS5             Yew Tee                  油池  North-South Line    \n",
       "\n",
       "  mrt_line_chinese  \n",
       "0              南北线  \n",
       "1              南北线  \n",
       "2              南北线  \n",
       "3              南北线  \n",
       "4              南北线  "
      ]
     },
     "execution_count": 98,
     "metadata": {},
     "output_type": "execute_result"
    }
   ],
   "source": [
    "mrt_station_codes.head()"
   ]
  },
  {
   "cell_type": "code",
   "execution_count": 99,
   "metadata": {},
   "outputs": [
    {
     "name": "stdout",
     "output_type": "stream",
     "text": [
      "(211, 5)\n",
      "(180, 7)\n"
     ]
    },
    {
     "data": {
      "text/plain": [
       "mrt_station_english\n",
       "Outram Park       3\n",
       "Marina Bay        3\n",
       "Dhoby Ghaut       3\n",
       "Bugis             2\n",
       "Raffles Place     2\n",
       "                 ..\n",
       "Buangkok          1\n",
       "Bras Basah        1\n",
       "Esplanade         1\n",
       "Nicoll Highway    1\n",
       "Bayshore          1\n",
       "Name: count, Length: 179, dtype: int64"
      ]
     },
     "execution_count": 99,
     "metadata": {},
     "output_type": "execute_result"
    }
   ],
   "source": [
    "# We need to get the mrt_line_english into the mrt_station_data. So, we will join the two tables.\n",
    "mrt_latlong_data[\"station_name\"] = mrt_latlong_data[\"station_name\"].str.strip().str.title()\n",
    "mrt_station_codes[\"mrt_station_english\"] = mrt_station_codes[\"mrt_station_english\"].str.strip().str.title()\n",
    "\n",
    "print(mrt_station_codes.shape)\n",
    "print(mrt_latlong_data.shape)\n",
    "\n",
    "mrt_station_codes[\"mrt_station_english\"].value_counts(sort=True,ascending=False)\n",
    "\n"
   ]
  },
  {
   "cell_type": "markdown",
   "metadata": {},
   "source": [
    "Note that different in number of rows between the 2 dataframe. It is because an MRT station can have multiple MRT lines"
   ]
  },
  {
   "cell_type": "code",
   "execution_count": 100,
   "metadata": {},
   "outputs": [],
   "source": [
    "mrt_station_data = pd.merge(mrt_latlong_data, \n",
    "                            mrt_station_codes, \n",
    "                            left_on='station_name', \n",
    "                            right_on='mrt_station_english', \n",
    "                            how='left')"
   ]
  },
  {
   "cell_type": "code",
   "execution_count": 101,
   "metadata": {},
   "outputs": [],
   "source": [
    "#function to calculate distance given lat and long of two points and return the distance in metres\n",
    "def calculate_distance(lat1, lon1, lat2, lon2):\n",
    "    # approximate radius of earth in km\n",
    "    R = 6373.0\n",
    "\n",
    "    lat1 = radians(lat1)\n",
    "    lon1 = radians(lon1)\n",
    "    lat2 = radians(lat2)\n",
    "    lon2 = radians(lon2)\n",
    "\n",
    "    dlon = lon2 - lon1\n",
    "    dlat = lat2 - lat1\n",
    "\n",
    "    a = sin(dlat / 2)**2 + cos(lat1) * cos(lat2) * sin(dlon / 2)**2\n",
    "    c = 2 * atan2(sqrt(a), sqrt(1 - a))\n",
    "\n",
    "    distance = R * c * 1000\n",
    "\n",
    "    return distance\n"
   ]
  },
  {
   "cell_type": "code",
   "execution_count": 102,
   "metadata": {},
   "outputs": [
    {
     "data": {
      "text/plain": [
       "array(['BPLRT', 'CCL', 'DTL', 'EWL', 'NEL', 'NSL', 'PGLRT', 'SGLRT',\n",
       "       'TEL'], dtype=object)"
      ]
     },
     "execution_count": 102,
     "metadata": {},
     "output_type": "execute_result"
    }
   ],
   "source": [
    "# Change Circle line Extension values to Circle Line of mrt_station_data\n",
    "\n",
    "mrt_station_data.loc[mrt_station_data[\"mrt_line_english\"] == \"Circle Line Extension\",\"mrt_line_english\"] = \"Circle Line\"\n",
    "mrt_station_data = mrt_station_data[mrt_station_data[\"mrt_line_english\"] != \"Changi Airport Branch Line\"]\n",
    "mrt_station_data[\"mrt_line_english\"] = mrt_station_data[\"mrt_line_english\"].str.strip().map({'North-South Line':'NSL',\n",
    "                                                                                             'East-West Line':'EWL',\n",
    "                                                                                             'Bukit Panjang LRT':'BPLRT',\n",
    "                                                                                             'Thomson-East Coast Line':'TEL',\n",
    "                                                                                             'Circle Line':'CCL',\n",
    "                                                                                             'Downtown Line':'DTL',\n",
    "                                                                                             'North East Line':'NEL',\n",
    "                                                                                             'Sengkang LRT':'SGLRT',\n",
    "                                                                                             'Punggol LRT':'PGLRT'\n",
    "                                                                                             }\n",
    "                                                                                             )\n",
    "mrt_lines = mrt_station_data[\"mrt_line_english\"].unique()\n",
    "mrt_lines.sort()\n",
    "mrt_lines\n",
    "# 9 MRT Lines"
   ]
  },
  {
   "cell_type": "code",
   "execution_count": 103,
   "metadata": {},
   "outputs": [
    {
     "name": "stderr",
     "output_type": "stream",
     "text": [
      "5137it [00:35, 144.94it/s]\n"
     ]
    }
   ],
   "source": [
    "# This array will have rows that we wil join side by side with the original bus stops dataframe.\n",
    "# Each row will have: [BusStopCode, BPLRT_distance, BPLRT_station_name, CCL_distance, CCL_station_name, ...]\n",
    "rows = []\n",
    "\n",
    "for i,row in tqdm(bus_stop_data.iterrows()):\n",
    "    row_data = []\n",
    "    row_data.append(row[\"BusStopCode\"])\n",
    "    for j, mrt_line in enumerate(mrt_lines):\n",
    "\n",
    "        min_distance = 1000000000\n",
    "        nearest_station = \"\"\n",
    "        for k, station_row in mrt_station_data[mrt_station_data[\"mrt_line_english\"] == mrt_line].iterrows():\n",
    "            dist = calculate_distance(row[\"Latitude\"], row[\"Longitude\"], station_row[\"latitude\"], station_row[\"longitude\"])\n",
    "            if dist < min_distance:\n",
    "                min_distance = dist\n",
    "                nearest_station = station_row[\"station_name\"]\n",
    "    \n",
    "        row_data.extend([min_distance,nearest_station])\n",
    "    rows.append(row_data)\n"
   ]
  },
  {
   "cell_type": "code",
   "execution_count": 104,
   "metadata": {},
   "outputs": [],
   "source": [
    "#Turn rows into a dataframe. Then join the bus_stop_data dataframe with the rows dataframe side by side.\n",
    "\n",
    "column_names = [(f\"{mrt_line}_distance\",f\"{mrt_line}_station_name\") for mrt_line in mrt_lines]\n",
    "\n",
    "rows = pd.DataFrame(rows, \n",
    "             columns=[\"BusStopCode\"] + \n",
    "             [val for pair in column_names for val in pair]\n",
    "             )\n",
    "\n",
    "bus_stop_data_updated = pd.merge(bus_stop_data, rows, on=\"BusStopCode\", how=\"left\",validate=\"1:1\")"
   ]
  },
  {
   "cell_type": "code",
   "execution_count": 111,
   "metadata": {},
   "outputs": [],
   "source": [
    "bus_stop_data_updated.to_csv(\"processed_data/bus_stops_with_nearest_mrt_data.csv\",index=False)"
   ]
  }
 ],
 "metadata": {
  "kernelspec": {
   "display_name": ".venv",
   "language": "python",
   "name": "python3"
  },
  "language_info": {
   "codemirror_mode": {
    "name": "ipython",
    "version": 3
   },
   "file_extension": ".py",
   "mimetype": "text/x-python",
   "name": "python",
   "nbconvert_exporter": "python",
   "pygments_lexer": "ipython3",
   "version": "3.12.0"
  }
 },
 "nbformat": 4,
 "nbformat_minor": 2
}
